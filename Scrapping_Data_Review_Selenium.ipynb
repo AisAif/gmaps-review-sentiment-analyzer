{
 "cells": [
  {
   "cell_type": "markdown",
   "metadata": {},
   "source": [
    "<h1>Instal Library Selenium</h1>"
   ]
  },
  {
   "cell_type": "code",
   "execution_count": 2,
   "metadata": {},
   "outputs": [
    {
     "name": "stdout",
     "output_type": "stream",
     "text": [
      "Requirement already satisfied: selenium in c:\\users\\user\\appdata\\local\\programs\\python\\python311\\lib\\site-packages (4.18.1)\n",
      "Requirement already satisfied: urllib3[socks]<3,>=1.26 in c:\\users\\user\\appdata\\local\\programs\\python\\python311\\lib\\site-packages (from selenium) (2.2.1)\n",
      "Requirement already satisfied: trio~=0.17 in c:\\users\\user\\appdata\\local\\programs\\python\\python311\\lib\\site-packages (from selenium) (0.24.0)\n",
      "Requirement already satisfied: trio-websocket~=0.9 in c:\\users\\user\\appdata\\local\\programs\\python\\python311\\lib\\site-packages (from selenium) (0.11.1)\n",
      "Requirement already satisfied: certifi>=2021.10.8 in c:\\users\\user\\appdata\\local\\programs\\python\\python311\\lib\\site-packages (from selenium) (2024.2.2)\n",
      "Requirement already satisfied: typing_extensions>=4.9.0 in c:\\users\\user\\appdata\\local\\programs\\python\\python311\\lib\\site-packages (from selenium) (4.10.0)\n",
      "Requirement already satisfied: attrs>=20.1.0 in c:\\users\\user\\appdata\\local\\programs\\python\\python311\\lib\\site-packages (from trio~=0.17->selenium) (23.2.0)\n",
      "Requirement already satisfied: sortedcontainers in c:\\users\\user\\appdata\\local\\programs\\python\\python311\\lib\\site-packages (from trio~=0.17->selenium) (2.4.0)\n",
      "Requirement already satisfied: idna in c:\\users\\user\\appdata\\local\\programs\\python\\python311\\lib\\site-packages (from trio~=0.17->selenium) (3.6)\n",
      "Requirement already satisfied: outcome in c:\\users\\user\\appdata\\local\\programs\\python\\python311\\lib\\site-packages (from trio~=0.17->selenium) (1.3.0.post0)\n",
      "Requirement already satisfied: sniffio>=1.3.0 in c:\\users\\user\\appdata\\local\\programs\\python\\python311\\lib\\site-packages (from trio~=0.17->selenium) (1.3.1)\n",
      "Requirement already satisfied: cffi>=1.14 in c:\\users\\user\\appdata\\local\\programs\\python\\python311\\lib\\site-packages (from trio~=0.17->selenium) (1.16.0)\n",
      "Requirement already satisfied: wsproto>=0.14 in c:\\users\\user\\appdata\\local\\programs\\python\\python311\\lib\\site-packages (from trio-websocket~=0.9->selenium) (1.2.0)\n",
      "Requirement already satisfied: pysocks!=1.5.7,<2.0,>=1.5.6 in c:\\users\\user\\appdata\\local\\programs\\python\\python311\\lib\\site-packages (from urllib3[socks]<3,>=1.26->selenium) (1.7.1)\n",
      "Requirement already satisfied: pycparser in c:\\users\\user\\appdata\\local\\programs\\python\\python311\\lib\\site-packages (from cffi>=1.14->trio~=0.17->selenium) (2.21)\n",
      "Requirement already satisfied: h11<1,>=0.9.0 in c:\\users\\user\\appdata\\local\\programs\\python\\python311\\lib\\site-packages (from wsproto>=0.14->trio-websocket~=0.9->selenium) (0.14.0)\n",
      "Note: you may need to restart the kernel to use updated packages.\n"
     ]
    },
    {
     "name": "stderr",
     "output_type": "stream",
     "text": [
      "\n",
      "[notice] A new release of pip is available: 23.2.1 -> 24.0\n",
      "[notice] To update, run: python.exe -m pip install --upgrade pip\n"
     ]
    }
   ],
   "source": [
    "pip install selenium"
   ]
  },
  {
   "cell_type": "markdown",
   "metadata": {},
   "source": [
    "<h1>Import Beberapa Modul</h1>\n",
    "<p>Beberapa modul yang diimport:</p>\n",
    "<ul>\n",
    "    <li>webdriver: untuk menjalankan salah satu web driver seperti chrome, mozilla dll</li>\n",
    "    <li>ActionChains: untuk melakukan interaksi terhadap web yang sedang dibuka</li>\n",
    "    <li>ScrollOrigin: untuk melakukan interaksi scroll terhadap web</li>\n",
    "    <li>time: untuk ekesekusi yang berhubungan dengan waktu</li>\n",
    "</ul>"
   ]
  },
  {
   "cell_type": "code",
   "execution_count": 2,
   "metadata": {},
   "outputs": [],
   "source": [
    "from selenium import webdriver\n",
    "from selenium.webdriver.common.by import By\n",
    "from selenium.webdriver.common.action_chains import ActionChains\n",
    "from selenium.webdriver.common.actions.wheel_input import ScrollOrigin\n",
    "import time"
   ]
  },
  {
   "cell_type": "markdown",
   "metadata": {},
   "source": [
    "<h1>Eksekusi Scrapping Data</h1>"
   ]
  },
  {
   "cell_type": "code",
   "execution_count": 11,
   "metadata": {},
   "outputs": [
    {
     "ename": "AttributeError",
     "evalue": "'WebDriver' object has no attribute 'find_elements_by_css_selector'",
     "output_type": "error",
     "traceback": [
      "\u001b[1;31m---------------------------------------------------------------------------\u001b[0m",
      "\u001b[1;31mAttributeError\u001b[0m                            Traceback (most recent call last)",
      "Cell \u001b[1;32mIn[11], line 33\u001b[0m\n\u001b[0;32m     31\u001b[0m \u001b[38;5;66;03m# mendapatkan semua elemen review dan menyimpan teks review ke file ReviewWisataIndonesia_Selenium.csv\u001b[39;00m\n\u001b[0;32m     32\u001b[0m reviews \u001b[38;5;241m=\u001b[39m driver\u001b[38;5;241m.\u001b[39mfind_elements(by\u001b[38;5;241m=\u001b[39mBy\u001b[38;5;241m.\u001b[39mCLASS_NAME, value\u001b[38;5;241m=\u001b[39m\u001b[38;5;124m\"\u001b[39m\u001b[38;5;124mwiI7pd\u001b[39m\u001b[38;5;124m\"\u001b[39m)\n\u001b[1;32m---> 33\u001b[0m review_stars \u001b[38;5;241m=\u001b[39m \u001b[43mdriver\u001b[49m\u001b[38;5;241;43m.\u001b[39;49m\u001b[43mfind_elements_by_css_selector\u001b[49m(\u001b[38;5;124m\"\u001b[39m\u001b[38;5;124m[class=\u001b[39m\u001b[38;5;124m'\u001b[39m\u001b[38;5;124msection-review-stars\u001b[39m\u001b[38;5;124m'\u001b[39m\u001b[38;5;124m]\u001b[39m\u001b[38;5;124m\"\u001b[39m)\n\u001b[0;32m     35\u001b[0m review_stars_final \u001b[38;5;241m=\u001b[39m []\n\u001b[0;32m     37\u001b[0m \u001b[38;5;28;01mfor\u001b[39;00m i \u001b[38;5;129;01min\u001b[39;00m review_stars:\n",
      "\u001b[1;31mAttributeError\u001b[0m: 'WebDriver' object has no attribute 'find_elements_by_css_selector'"
     ]
    }
   ],
   "source": [
    "# Inisial chrome web driver\n",
    "driver = webdriver.Chrome()\n",
    "\n",
    "# mengakses url dengan metode get (membuka halaman website)\n",
    "url = \"https://www.google.com/maps/place/Air+Terjun+Grojogan+Sewu/@-7.6608394,110.8259177,11z/data=!4m13!1m3!2m2!1swisata+jawa+tengah!6e1!3m8!1s0x2e798a3aaef24383:0x3d3da6236af2202a!8m2!3d-7.6608394!4d111.1307883!9m1!1b1!15sChJ3aXNhdGEgamF3YSB0ZW5nYWhaFCISd2lzYXRhIGphd2EgdGVuZ2FokgESdG91cmlzdF9hdHRyYWN0aW9umgEkQ2hkRFNVaE5NRzluUzBWSlEwRm5TVVJYZUhSeGFGOUJSUkFC4AEA!16s%2Fm%2F056n6r1?entry=ttu\"\n",
    "driver.get(url)\n",
    "\n",
    "# menunggu selama 60 detik waktu timeout dan akan keluar jika tidak ada respon\n",
    "driver.implicitly_wait(60)\n",
    "\n",
    "# mendapatkan tombol untuk melihat semua review\n",
    "button = driver.find_elements(by=By.CLASS_NAME, value=\"hh2c6 \")[1]\n",
    "ActionChains(driver).move_to_element(button).click(button).perform()\n",
    "\n",
    "# scroll menuju elemen paling bawah\n",
    "time.sleep(5)\n",
    "topElement = driver.find_element(By.CLASS_NAME, \"m6QErb.tLjsW\")\n",
    "scroll_origin = ScrollOrigin.from_element(topElement)\n",
    "ActionChains(driver).scroll_from_origin(scroll_origin, 0, 1000).perform()\n",
    "\n",
    "# looping scroll untuk mengambil semua review\n",
    "while True:\n",
    "    lastReview = driver.find_elements(By.CLASS_NAME, \"wiI7pd\")[-1]\n",
    "    scroll_origin = ScrollOrigin.from_element(lastReview)\n",
    "    time.sleep(2)\n",
    "    ActionChains(driver).scroll_from_origin(scroll_origin, 0, 1000).perform()\n",
    "    time.sleep(2)\n",
    "    if lastReview == driver.find_elements(By.CLASS_NAME, \"wiI7pd\")[-1]:\n",
    "        break\n",
    "\n",
    "# mendapatkan semua elemen review dan menyimpan teks review ke file ReviewWisataIndonesia_Selenium.csv\n",
    "reviews = driver.find_elements(by=By.CLASS_NAME, value=\"wiI7pd\")\n",
    "review_stars = driver.find_elements(by=By.CLASS_NAME, value=\"kvMYJc\")\n",
    "\n",
    "review_stars_final = []\n",
    "\n",
    "for i in review_stars:\n",
    "    review_stars_final.append(i.get_attribute(\"aria-label\"))\n",
    "\n",
    "review_stars_list = [a for a in review_stars_final]\n",
    "\n",
    "with open(\"ReviewWisataIndonesia_Selenium.csv\", \"w\", encoding=\"utf-8\") as f:\n",
    "    f.write(\"review,rating\\n\")\n",
    "    for i in range(len(reviews)):\n",
    "        review_text = reviews[i].text.replace(\"\\n\", \"\")\n",
    "        rating_text = review_stars_list[i].text\n",
    "        f.write(f'\"{review_text}\",\"{rating_text}\"\\n')"
   ]
  }
 ],
 "metadata": {
  "kernelspec": {
   "display_name": "Python 3",
   "language": "python",
   "name": "python3"
  },
  "language_info": {
   "codemirror_mode": {
    "name": "ipython",
    "version": 3
   },
   "file_extension": ".py",
   "mimetype": "text/x-python",
   "name": "python",
   "nbconvert_exporter": "python",
   "pygments_lexer": "ipython3",
   "version": "3.12.1"
  }
 },
 "nbformat": 4,
 "nbformat_minor": 2
}
